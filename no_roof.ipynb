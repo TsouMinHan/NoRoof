{
 "cells": [
  {
   "cell_type": "code",
   "execution_count": 1,
   "metadata": {},
   "outputs": [],
   "source": [
    "from bs4 import BeautifulSoup\n",
    "from selenium import webdriver\n",
    "from selenium.webdriver.chrome.options import Options\n",
    "from pathlib import Path\n",
    "import requests\n",
    "import time\n",
    "import asyncio\n",
    "import os\n",
    "\n",
    "chrome_options = Options()\n",
    "# chrome_options.add_argument('--headless')\n",
    "driver = webdriver.Chrome(chrome_options=chrome_options)\n",
    "\n",
    "DOWNLOAD_FOLDER = r\"D:\\pyCharm\\NoRoof\\Download\"\n",
    "\n",
    "front_url = \"https://www.ruten.com.tw/user/\"\n",
    "\n",
    "def check_folder(folder_path):\n",
    "    if not folder_path.exists():\n",
    "        Path.mkdir(folder_path, parents=True)\n",
    "\n",
    "def go_to_directory(directory, *args):\n",
    "    directory = Path(directory).joinpath(*args)\n",
    "    check_folder(directory)\n",
    "    os.chdir(directory)\n",
    "    return directory\n"
   ]
  },
  {
   "cell_type": "code",
   "execution_count": 2,
   "metadata": {},
   "outputs": [],
   "source": [
    "\n",
    "def download_img(path, ls): \n",
    "    for ele in ls:\n",
    "        download_url = ele[0]\n",
    "        file_name = ele[1]\n",
    "        ir = requests.get(download_url)\n",
    "        time.sleep(0.3)\n",
    "        if ir.status_code == 200:\n",
    "            open(f'{path}\\\\{file_name}', 'wb').write(ir.content)\n",
    "            print(f\"download '{path}\\\\{file_name}'\")\n"
   ]
  },
  {
   "cell_type": "code",
   "execution_count": 3,
   "metadata": {},
   "outputs": [],
   "source": [
    "# get all classification\n",
    "driver.get(\"https://www.ruten.com.tw/user/index00.php?s=f2869397\")\n",
    "soup = BeautifulSoup(driver.page_source, \"html.parser\")\n",
    "div = soup.select(\"div.sidebar-main.category-listing a\")\n",
    "# list of tuple [(link_url, title), ...]\n",
    "classification_ls = [(front_url + u[\"href\"], u.text) for u in soup.select(\"div.sidebar-main.category-listing a\")[1:]]"
   ]
  },
  {
   "cell_type": "code",
   "execution_count": 4,
   "metadata": {},
   "outputs": [],
   "source": [
    "# go to each of page\n",
    "for classify in classification_ls:\n",
    "    go_to_directory(DOWNLOAD_FOLDER, classify[1])\n",
    "    # get all merchandise page\n",
    "    driver.get(classify[0])\n",
    "    soup = BeautifulSoup(driver.page_source, \"html.parser\")\n",
    "    # list of tuple [(link_url, title), ...]\n",
    "    merchandise_ls = [(ele[\"href\"], ele.text) for ele in soup.select(\"h3.item-name.isDefault-name a\")]\n",
    "    for merchandise in merchandise_ls:\n",
    "        directory = go_to_directory(DOWNLOAD_FOLDER, classify[1], merchandise[1].rstrip())\n",
    "        driver.get(merchandise[0])\n",
    "        soup = BeautifulSoup(driver.page_source, \"html.parser\")\n",
    "\n",
    "        # list of tuple [(link_url, file_name), ...]\n",
    "        side_img_ls = [(ele[\"src\"], ele[\"src\"].split(\"/\")[-1]) for ele in soup.select(\"div.item-gallery img\")]\n",
    "        download_img(directory, side_img_ls)\n",
    "        # list of tuple [(link_url, file_name), ...]\n",
    "        below_img_ls = [(ele[\"src\"], ele[\"src\"].split(\"/\")[-1]) for ele in soup.select(\"div.rt-tab-pane img\")[1:-1]]\n",
    "        download_img(directory, below_img_ls)"
   ]
  }
 ],
 "metadata": {
  "language_info": {
   "codemirror_mode": {
    "name": "ipython",
    "version": 3
   },
   "file_extension": ".py",
   "mimetype": "text/x-python",
   "name": "python",
   "nbconvert_exporter": "python",
   "pygments_lexer": "ipython3",
   "version": "3.7.3-final"
  },
  "orig_nbformat": 2,
  "kernelspec": {
   "name": "python37364bitbb83f084e1b4400fb3c93dfc5d9f7239",
   "display_name": "Python 3.7.3 64-bit"
  }
 },
 "nbformat": 4,
 "nbformat_minor": 2
}